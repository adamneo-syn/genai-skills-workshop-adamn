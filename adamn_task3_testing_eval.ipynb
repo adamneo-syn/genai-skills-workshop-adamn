{
  "cells": [
    {
      "cell_type": "markdown",
      "source": [
        "## IMPORTING THE NECESSARY PACKAGES"
      ],
      "metadata": {
        "id": "LmOYGF6HKoTY"
      },
      "id": "LmOYGF6HKoTY"
    },
    {
      "cell_type": "code",
      "source": [
        "!pip install --quiet ipytest"
      ],
      "metadata": {
        "id": "DrDwhrKx7lUT"
      },
      "id": "DrDwhrKx7lUT",
      "execution_count": null,
      "outputs": []
    },
    {
      "cell_type": "code",
      "source": [
        "%pip install --upgrade --quiet google-cloud-aiplatform google-cloud-aiplatform[evaluation]"
      ],
      "metadata": {
        "id": "x4eOJGNd_PDr"
      },
      "id": "x4eOJGNd_PDr",
      "execution_count": null,
      "outputs": []
    },
    {
      "cell_type": "code",
      "id": "za6ryjV7tRklfTNd40m4AatS",
      "metadata": {
        "tags": [],
        "id": "za6ryjV7tRklfTNd40m4AatS"
      },
      "source": [
        "import pytest\n",
        "import ipytest\n",
        "from IPython.display import Markdown, display\n",
        "from google import genai\n",
        "from google.genai.types import GenerateContentConfig\n",
        "from google.genai import types"
      ],
      "execution_count": null,
      "outputs": []
    },
    {
      "cell_type": "markdown",
      "source": [
        "## CREATING FUNCTIONS TO CREATE THE RELEVANT GEN AI RESPONSES"
      ],
      "metadata": {
        "id": "l1fPUx75KtPy"
      },
      "id": "l1fPUx75KtPy"
    },
    {
      "cell_type": "markdown",
      "source": [
        "We first create the classification function"
      ],
      "metadata": {
        "id": "TyPFUATAK8h8"
      },
      "id": "TyPFUATAK8h8"
    },
    {
      "cell_type": "code",
      "source": [
        "def classify_user_question(user_q):\n",
        "\n",
        "  # Generating the client\n",
        "  client = genai.Client(\n",
        "      vertexai=True,\n",
        "      project=\"qwiklabs-gcp-02-cf6490c204fb\",\n",
        "      location=\"us-central1\",\n",
        "  )\n",
        "\n",
        "  # Specifying the model\n",
        "  model = \"gemini-2.5-pro-preview-05-06\"\n",
        "\n",
        "  # Defining the prompt based on the user's input\n",
        "  prompt = f\"\"\"\n",
        "  Classify the followwing question into one of the following categories: 'Employment','General Information','Emergency Services','Tax Related'\n",
        "\n",
        "  Question: {user_q}\n",
        "  \"\"\"\n",
        "\n",
        "  # Getting and returning our response\n",
        "  response = client.models.generate_content(model=model, contents=prompt)\n",
        "  return response.text"
      ],
      "metadata": {
        "id": "aVvyyAnL0vHZ"
      },
      "id": "aVvyyAnL0vHZ",
      "execution_count": null,
      "outputs": []
    },
    {
      "cell_type": "code",
      "source": [
        "classify_user_question(\"What number do I use to call an ambulance?\")"
      ],
      "metadata": {
        "colab": {
          "base_uri": "https://localhost:8080/",
          "height": 36
        },
        "id": "eVuyrtaK2Byh",
        "outputId": "0b427399-7016-49db-bd94-6cf2e830d3ca"
      },
      "id": "eVuyrtaK2Byh",
      "execution_count": null,
      "outputs": [
        {
          "output_type": "execute_result",
          "data": {
            "text/plain": [
              "'**Category:** Emergency Services'"
            ],
            "application/vnd.google.colaboratory.intrinsic+json": {
              "type": "string"
            }
          },
          "metadata": {},
          "execution_count": 5
        }
      ]
    },
    {
      "cell_type": "code",
      "source": [
        "classify_user_question(\"When do I need to lodge a tax return?\")"
      ],
      "metadata": {
        "colab": {
          "base_uri": "https://localhost:8080/",
          "height": 36
        },
        "id": "sp79cu462OS5",
        "outputId": "6986efe1-003c-4b76-9ce5-3c8e303744ae"
      },
      "id": "sp79cu462OS5",
      "execution_count": null,
      "outputs": [
        {
          "output_type": "execute_result",
          "data": {
            "text/plain": [
              "'**Tax Related**'"
            ],
            "application/vnd.google.colaboratory.intrinsic+json": {
              "type": "string"
            }
          },
          "metadata": {},
          "execution_count": 6
        }
      ]
    },
    {
      "cell_type": "markdown",
      "source": [
        "The below method creates the social media post"
      ],
      "metadata": {
        "id": "i7gzFDo0LCgS"
      },
      "id": "i7gzFDo0LCgS"
    },
    {
      "cell_type": "code",
      "source": [
        "def generate_social_post(topic):\n",
        "\n",
        "  # Generating the client\n",
        "  client = genai.Client(\n",
        "      vertexai=True,\n",
        "      project=\"qwiklabs-gcp-02-cf6490c204fb\",\n",
        "      location=\"us-central1\",\n",
        "  )\n",
        "\n",
        "  # Specifying the model\n",
        "  model = \"gemini-2.5-pro-preview-05-06\"\n",
        "\n",
        "  # Defining the prompt based on the user's input\n",
        "  prompt = f\"\"\"\n",
        "  Generate a social media post in 25 words or less based on the following topic: {topic}\n",
        "  \"\"\"\n",
        "\n",
        "  # Getting and returning our response\n",
        "  response = client.models.generate_content(model=model, contents=prompt)\n",
        "  return response.text"
      ],
      "metadata": {
        "id": "vvQ99TQ72VEV"
      },
      "id": "vvQ99TQ72VEV",
      "execution_count": null,
      "outputs": []
    },
    {
      "cell_type": "code",
      "source": [
        "generate_social_post(\"christmas\")"
      ],
      "metadata": {
        "colab": {
          "base_uri": "https://localhost:8080/",
          "height": 36
        },
        "id": "D-Txw0US2pK2",
        "outputId": "df8781b9-86ec-4562-f906-dc8b5a5d1491"
      },
      "id": "D-Txw0US2pK2",
      "execution_count": null,
      "outputs": [
        {
          "output_type": "execute_result",
          "data": {
            "text/plain": [
              "'Merry Christmas! 🎄 Wishing you a day filled with joy, love, and festive cheer. #HappyHolidays'"
            ],
            "application/vnd.google.colaboratory.intrinsic+json": {
              "type": "string"
            }
          },
          "metadata": {},
          "execution_count": 10
        }
      ]
    },
    {
      "cell_type": "markdown",
      "source": [
        "## DEFINING THE TEST CASES"
      ],
      "metadata": {
        "id": "UamP4bW7Lymy"
      },
      "id": "UamP4bW7Lymy"
    },
    {
      "cell_type": "markdown",
      "source": [
        "Test case for the classification problem"
      ],
      "metadata": {
        "id": "K_vu32C3L3S_"
      },
      "id": "K_vu32C3L3S_"
    },
    {
      "cell_type": "code",
      "source": [
        "def test_classify_user_q():\n",
        "  # Boolean we will assess our outputs against\n",
        "  passed = True\n",
        "\n",
        "  # Basic list of test cases\n",
        "  reference_list = [(\"What number do I use to call an ambulance?\",\"emergency services\"),(\"When do I need to lodge a tax return?\",\"Tax Related\")]\n",
        "\n",
        "  for example in reference_list:\n",
        "    question = example[0]\n",
        "    answer = example[1]\n",
        "\n",
        "    response = classify_user_question(question)\n",
        "    if answer.lower() not in response.lower():\n",
        "      passed = False\n",
        "      break\n",
        "\n",
        "  assert passed == True"
      ],
      "metadata": {
        "id": "sL-4wUGT3Bn5"
      },
      "id": "sL-4wUGT3Bn5",
      "execution_count": null,
      "outputs": []
    },
    {
      "cell_type": "markdown",
      "source": [
        "Test case for the social media post problem"
      ],
      "metadata": {
        "id": "9Bcx5Qn9L6UH"
      },
      "id": "9Bcx5Qn9L6UH"
    },
    {
      "cell_type": "code",
      "source": [
        "def test_social_post():\n",
        "  # Boolean we will assess our outputs against\n",
        "  passed = True\n",
        "\n",
        "  # Basic list of test cases\n",
        "  reference_list = [(\"Christmas\",\"Merry Christmas\")]\n",
        "\n",
        "  for example in reference_list:\n",
        "    question = example[0]\n",
        "    answer = example[1]\n",
        "\n",
        "    response = generate_social_post(question)\n",
        "\n",
        "    check_question = f\"\"\"\n",
        "    Are these posts fundamentally the same? Answer with a yes or no\n",
        "\n",
        "    post1: {response}\n",
        "    post2: {answer}\n",
        "\n",
        "    \"\"\"\n",
        "\n",
        "    # Generating the client\n",
        "    client = genai.Client(\n",
        "      vertexai=True,\n",
        "      project=\"qwiklabs-gcp-02-cf6490c204fb\",\n",
        "      location=\"us-central1\"\n",
        "    )\n",
        "\n",
        "    # Specifying the model\n",
        "    model = \"gemini-2.5-pro-preview-05-06\"\n",
        "\n",
        "    checker = client.models.generate_content(model=model, contents=check_question)\n",
        "\n",
        "    if \"yes\" not in checker.text.lower():\n",
        "      passed = False\n",
        "\n",
        "  assert passed == True"
      ],
      "metadata": {
        "id": "NQdG6L2j5UdN"
      },
      "id": "NQdG6L2j5UdN",
      "execution_count": null,
      "outputs": []
    },
    {
      "cell_type": "markdown",
      "source": [
        "## RUNNING PYTEST"
      ],
      "metadata": {
        "id": "16VtZm0j61yv"
      },
      "id": "16VtZm0j61yv"
    },
    {
      "cell_type": "code",
      "source": [
        "import pytest\n",
        "import ipytest\n",
        "ipytest.autoconfig()\n",
        "ipytest.run()"
      ],
      "metadata": {
        "colab": {
          "base_uri": "https://localhost:8080/"
        },
        "id": "jGhqAKk86ow_",
        "outputId": "bb9188c8-924a-463a-9927-7dab7d1688cb"
      },
      "id": "jGhqAKk86ow_",
      "execution_count": null,
      "outputs": [
        {
          "output_type": "stream",
          "name": "stdout",
          "text": [
            "\u001b[32m.\u001b[0m\u001b[32m.\u001b[0m\u001b[33m                                                                                           [100%]\u001b[0m\n",
            "\u001b[33m========================================= warnings summary =========================================\u001b[0m\n",
            "../usr/local/lib/python3.10/dist-packages/_pytest/config/__init__.py:1277\n",
            "  /usr/local/lib/python3.10/dist-packages/_pytest/config/__init__.py:1277: PytestAssertRewriteWarning: Module already imported so cannot be rewritten: anyio\n",
            "    self._mark_plugins_for_rewrite(hook)\n",
            "\n",
            "-- Docs: https://docs.pytest.org/en/stable/how-to/capture-warnings.html\n",
            "\u001b[33m\u001b[32m2 passed\u001b[0m, \u001b[33m\u001b[1m1 warning\u001b[0m\u001b[33m in 30.16s\u001b[0m\u001b[0m\n"
          ]
        },
        {
          "output_type": "execute_result",
          "data": {
            "text/plain": [
              "<ExitCode.OK: 0>"
            ]
          },
          "metadata": {},
          "execution_count": 48
        }
      ]
    },
    {
      "cell_type": "markdown",
      "source": [
        "## LEVERAGING THE GOOGLE EVALUATION API SERVICE"
      ],
      "metadata": {
        "id": "ML8ogOE47MC0"
      },
      "id": "ML8ogOE47MC0"
    },
    {
      "cell_type": "markdown",
      "source": [
        "We begin with the evaluations of the classification questions"
      ],
      "metadata": {
        "id": "eU4pyakP8DgH"
      },
      "id": "eU4pyakP8DgH"
    },
    {
      "cell_type": "code",
      "source": [
        "import pandas as pd\n",
        "\n",
        "contexts = [\"What number do I use to call an ambulance?\",\"When do I need to lodge a tax return?\"]\n",
        "\n",
        "full_prompts = [base_prompt.format(i) for i in contexts]\n",
        "content = [classify_user_question(i) for i in contexts]\n",
        "\n",
        "eval_dataset = pd.DataFrame(\n",
        "{\n",
        "\"response\": content,\n",
        "\"context\": full_prompts,\n",
        "\"instruction\":full_prompts\n",
        "}\n",
        ")"
      ],
      "metadata": {
        "id": "C59Hjatg8IXB"
      },
      "id": "C59Hjatg8IXB",
      "execution_count": null,
      "outputs": []
    },
    {
      "cell_type": "code",
      "source": [
        "eval_dataset.head()"
      ],
      "metadata": {
        "colab": {
          "base_uri": "https://localhost:8080/",
          "height": 112
        },
        "id": "R_FZo9oT9LJn",
        "outputId": "0f033a8d-81fc-4c50-8e04-549a22723128"
      },
      "id": "R_FZo9oT9LJn",
      "execution_count": null,
      "outputs": [
        {
          "output_type": "execute_result",
          "data": {
            "text/plain": [
              "                 response                                            context  \\\n",
              "0  **Emergency Services**  \\n  Classify the following question into one o...   \n",
              "1         **Tax Related**  \\n  Classify the following question into one o...   \n",
              "\n",
              "                                         instruction  \n",
              "0  \\n  Classify the following question into one o...  \n",
              "1  \\n  Classify the following question into one o...  "
            ],
            "text/html": [
              "\n",
              "  <div id=\"df-08cc1959-f502-4718-8eb5-5b43159c840e\" class=\"colab-df-container\">\n",
              "    <div>\n",
              "<style scoped>\n",
              "    .dataframe tbody tr th:only-of-type {\n",
              "        vertical-align: middle;\n",
              "    }\n",
              "\n",
              "    .dataframe tbody tr th {\n",
              "        vertical-align: top;\n",
              "    }\n",
              "\n",
              "    .dataframe thead th {\n",
              "        text-align: right;\n",
              "    }\n",
              "</style>\n",
              "<table border=\"1\" class=\"dataframe\">\n",
              "  <thead>\n",
              "    <tr style=\"text-align: right;\">\n",
              "      <th></th>\n",
              "      <th>response</th>\n",
              "      <th>context</th>\n",
              "      <th>instruction</th>\n",
              "    </tr>\n",
              "  </thead>\n",
              "  <tbody>\n",
              "    <tr>\n",
              "      <th>0</th>\n",
              "      <td>**Emergency Services**</td>\n",
              "      <td>\\n  Classify the following question into one o...</td>\n",
              "      <td>\\n  Classify the following question into one o...</td>\n",
              "    </tr>\n",
              "    <tr>\n",
              "      <th>1</th>\n",
              "      <td>**Tax Related**</td>\n",
              "      <td>\\n  Classify the following question into one o...</td>\n",
              "      <td>\\n  Classify the following question into one o...</td>\n",
              "    </tr>\n",
              "  </tbody>\n",
              "</table>\n",
              "</div>\n",
              "    <div class=\"colab-df-buttons\">\n",
              "\n",
              "  <div class=\"colab-df-container\">\n",
              "    <button class=\"colab-df-convert\" onclick=\"convertToInteractive('df-08cc1959-f502-4718-8eb5-5b43159c840e')\"\n",
              "            title=\"Convert this dataframe to an interactive table.\"\n",
              "            style=\"display:none;\">\n",
              "\n",
              "  <svg xmlns=\"http://www.w3.org/2000/svg\" height=\"24px\" viewBox=\"0 -960 960 960\">\n",
              "    <path d=\"M120-120v-720h720v720H120Zm60-500h600v-160H180v160Zm220 220h160v-160H400v160Zm0 220h160v-160H400v160ZM180-400h160v-160H180v160Zm440 0h160v-160H620v160ZM180-180h160v-160H180v160Zm440 0h160v-160H620v160Z\"/>\n",
              "  </svg>\n",
              "    </button>\n",
              "\n",
              "  <style>\n",
              "    .colab-df-container {\n",
              "      display:flex;\n",
              "      gap: 12px;\n",
              "    }\n",
              "\n",
              "    .colab-df-convert {\n",
              "      background-color: #E8F0FE;\n",
              "      border: none;\n",
              "      border-radius: 50%;\n",
              "      cursor: pointer;\n",
              "      display: none;\n",
              "      fill: #1967D2;\n",
              "      height: 32px;\n",
              "      padding: 0 0 0 0;\n",
              "      width: 32px;\n",
              "    }\n",
              "\n",
              "    .colab-df-convert:hover {\n",
              "      background-color: #E2EBFA;\n",
              "      box-shadow: 0px 1px 2px rgba(60, 64, 67, 0.3), 0px 1px 3px 1px rgba(60, 64, 67, 0.15);\n",
              "      fill: #174EA6;\n",
              "    }\n",
              "\n",
              "    .colab-df-buttons div {\n",
              "      margin-bottom: 4px;\n",
              "    }\n",
              "\n",
              "    [theme=dark] .colab-df-convert {\n",
              "      background-color: #3B4455;\n",
              "      fill: #D2E3FC;\n",
              "    }\n",
              "\n",
              "    [theme=dark] .colab-df-convert:hover {\n",
              "      background-color: #434B5C;\n",
              "      box-shadow: 0px 1px 3px 1px rgba(0, 0, 0, 0.15);\n",
              "      filter: drop-shadow(0px 1px 2px rgba(0, 0, 0, 0.3));\n",
              "      fill: #FFFFFF;\n",
              "    }\n",
              "  </style>\n",
              "\n",
              "    <script>\n",
              "      const buttonEl =\n",
              "        document.querySelector('#df-08cc1959-f502-4718-8eb5-5b43159c840e button.colab-df-convert');\n",
              "      buttonEl.style.display =\n",
              "        google.colab.kernel.accessAllowed ? 'block' : 'none';\n",
              "\n",
              "      async function convertToInteractive(key) {\n",
              "        const element = document.querySelector('#df-08cc1959-f502-4718-8eb5-5b43159c840e');\n",
              "        const dataTable =\n",
              "          await google.colab.kernel.invokeFunction('convertToInteractive',\n",
              "                                                    [key], {});\n",
              "        if (!dataTable) return;\n",
              "\n",
              "        const docLinkHtml = 'Like what you see? Visit the ' +\n",
              "          '<a target=\"_blank\" href=https://colab.research.google.com/notebooks/data_table.ipynb>data table notebook</a>'\n",
              "          + ' to learn more about interactive tables.';\n",
              "        element.innerHTML = '';\n",
              "        dataTable['output_type'] = 'display_data';\n",
              "        await google.colab.output.renderOutput(dataTable, element);\n",
              "        const docLink = document.createElement('div');\n",
              "        docLink.innerHTML = docLinkHtml;\n",
              "        element.appendChild(docLink);\n",
              "      }\n",
              "    </script>\n",
              "  </div>\n",
              "\n",
              "\n",
              "<div id=\"df-7fe97f23-391c-4f10-8ee5-9752e520e8e0\">\n",
              "  <button class=\"colab-df-quickchart\" onclick=\"quickchart('df-7fe97f23-391c-4f10-8ee5-9752e520e8e0')\"\n",
              "            title=\"Suggest charts\"\n",
              "            style=\"display:none;\">\n",
              "\n",
              "<svg xmlns=\"http://www.w3.org/2000/svg\" height=\"24px\"viewBox=\"0 0 24 24\"\n",
              "     width=\"24px\">\n",
              "    <g>\n",
              "        <path d=\"M19 3H5c-1.1 0-2 .9-2 2v14c0 1.1.9 2 2 2h14c1.1 0 2-.9 2-2V5c0-1.1-.9-2-2-2zM9 17H7v-7h2v7zm4 0h-2V7h2v10zm4 0h-2v-4h2v4z\"/>\n",
              "    </g>\n",
              "</svg>\n",
              "  </button>\n",
              "\n",
              "<style>\n",
              "  .colab-df-quickchart {\n",
              "      --bg-color: #E8F0FE;\n",
              "      --fill-color: #1967D2;\n",
              "      --hover-bg-color: #E2EBFA;\n",
              "      --hover-fill-color: #174EA6;\n",
              "      --disabled-fill-color: #AAA;\n",
              "      --disabled-bg-color: #DDD;\n",
              "  }\n",
              "\n",
              "  [theme=dark] .colab-df-quickchart {\n",
              "      --bg-color: #3B4455;\n",
              "      --fill-color: #D2E3FC;\n",
              "      --hover-bg-color: #434B5C;\n",
              "      --hover-fill-color: #FFFFFF;\n",
              "      --disabled-bg-color: #3B4455;\n",
              "      --disabled-fill-color: #666;\n",
              "  }\n",
              "\n",
              "  .colab-df-quickchart {\n",
              "    background-color: var(--bg-color);\n",
              "    border: none;\n",
              "    border-radius: 50%;\n",
              "    cursor: pointer;\n",
              "    display: none;\n",
              "    fill: var(--fill-color);\n",
              "    height: 32px;\n",
              "    padding: 0;\n",
              "    width: 32px;\n",
              "  }\n",
              "\n",
              "  .colab-df-quickchart:hover {\n",
              "    background-color: var(--hover-bg-color);\n",
              "    box-shadow: 0 1px 2px rgba(60, 64, 67, 0.3), 0 1px 3px 1px rgba(60, 64, 67, 0.15);\n",
              "    fill: var(--button-hover-fill-color);\n",
              "  }\n",
              "\n",
              "  .colab-df-quickchart-complete:disabled,\n",
              "  .colab-df-quickchart-complete:disabled:hover {\n",
              "    background-color: var(--disabled-bg-color);\n",
              "    fill: var(--disabled-fill-color);\n",
              "    box-shadow: none;\n",
              "  }\n",
              "\n",
              "  .colab-df-spinner {\n",
              "    border: 2px solid var(--fill-color);\n",
              "    border-color: transparent;\n",
              "    border-bottom-color: var(--fill-color);\n",
              "    animation:\n",
              "      spin 1s steps(1) infinite;\n",
              "  }\n",
              "\n",
              "  @keyframes spin {\n",
              "    0% {\n",
              "      border-color: transparent;\n",
              "      border-bottom-color: var(--fill-color);\n",
              "      border-left-color: var(--fill-color);\n",
              "    }\n",
              "    20% {\n",
              "      border-color: transparent;\n",
              "      border-left-color: var(--fill-color);\n",
              "      border-top-color: var(--fill-color);\n",
              "    }\n",
              "    30% {\n",
              "      border-color: transparent;\n",
              "      border-left-color: var(--fill-color);\n",
              "      border-top-color: var(--fill-color);\n",
              "      border-right-color: var(--fill-color);\n",
              "    }\n",
              "    40% {\n",
              "      border-color: transparent;\n",
              "      border-right-color: var(--fill-color);\n",
              "      border-top-color: var(--fill-color);\n",
              "    }\n",
              "    60% {\n",
              "      border-color: transparent;\n",
              "      border-right-color: var(--fill-color);\n",
              "    }\n",
              "    80% {\n",
              "      border-color: transparent;\n",
              "      border-right-color: var(--fill-color);\n",
              "      border-bottom-color: var(--fill-color);\n",
              "    }\n",
              "    90% {\n",
              "      border-color: transparent;\n",
              "      border-bottom-color: var(--fill-color);\n",
              "    }\n",
              "  }\n",
              "</style>\n",
              "\n",
              "  <script>\n",
              "    async function quickchart(key) {\n",
              "      const quickchartButtonEl =\n",
              "        document.querySelector('#' + key + ' button');\n",
              "      quickchartButtonEl.disabled = true;  // To prevent multiple clicks.\n",
              "      quickchartButtonEl.classList.add('colab-df-spinner');\n",
              "      try {\n",
              "        const charts = await google.colab.kernel.invokeFunction(\n",
              "            'suggestCharts', [key], {});\n",
              "      } catch (error) {\n",
              "        console.error('Error during call to suggestCharts:', error);\n",
              "      }\n",
              "      quickchartButtonEl.classList.remove('colab-df-spinner');\n",
              "      quickchartButtonEl.classList.add('colab-df-quickchart-complete');\n",
              "    }\n",
              "    (() => {\n",
              "      let quickchartButtonEl =\n",
              "        document.querySelector('#df-7fe97f23-391c-4f10-8ee5-9752e520e8e0 button');\n",
              "      quickchartButtonEl.style.display =\n",
              "        google.colab.kernel.accessAllowed ? 'block' : 'none';\n",
              "    })();\n",
              "  </script>\n",
              "</div>\n",
              "\n",
              "    </div>\n",
              "  </div>\n"
            ],
            "application/vnd.google.colaboratory.intrinsic+json": {
              "type": "dataframe",
              "variable_name": "eval_dataset",
              "summary": "{\n  \"name\": \"eval_dataset\",\n  \"rows\": 2,\n  \"fields\": [\n    {\n      \"column\": \"response\",\n      \"properties\": {\n        \"dtype\": \"string\",\n        \"num_unique_values\": 2,\n        \"samples\": [\n          \"**Tax Related**\",\n          \"**Emergency Services**\"\n        ],\n        \"semantic_type\": \"\",\n        \"description\": \"\"\n      }\n    },\n    {\n      \"column\": \"context\",\n      \"properties\": {\n        \"dtype\": \"string\",\n        \"num_unique_values\": 2,\n        \"samples\": [\n          \"\\n  Classify the following question into one of the following categories: 'Employment','General Information','Emergency Services','Tax Related'\\n\\n  Question: When do I need to lodge a tax return?\\n\",\n          \"\\n  Classify the following question into one of the following categories: 'Employment','General Information','Emergency Services','Tax Related'\\n\\n  Question: What number do I use to call an ambulance?\\n\"\n        ],\n        \"semantic_type\": \"\",\n        \"description\": \"\"\n      }\n    },\n    {\n      \"column\": \"instruction\",\n      \"properties\": {\n        \"dtype\": \"string\",\n        \"num_unique_values\": 2,\n        \"samples\": [\n          \"\\n  Classify the following question into one of the following categories: 'Employment','General Information','Emergency Services','Tax Related'\\n\\n  Question: When do I need to lodge a tax return?\\n\",\n          \"\\n  Classify the following question into one of the following categories: 'Employment','General Information','Emergency Services','Tax Related'\\n\\n  Question: What number do I use to call an ambulance?\\n\"\n        ],\n        \"semantic_type\": \"\",\n        \"description\": \"\"\n      }\n    }\n  ]\n}"
            }
          },
          "metadata": {},
          "execution_count": 86
        }
      ]
    },
    {
      "cell_type": "code",
      "source": [
        "import datetime\n",
        "from vertexai.evaluation import (\n",
        "    MetricPromptTemplateExamples,\n",
        "    EvalTask,\n",
        "    PairwiseMetric,\n",
        "    PairwiseMetricPromptTemplate,\n",
        "    PointwiseMetric,\n",
        "    PointwiseMetricPromptTemplate\n",
        ")\n",
        "import vertexai\n",
        "\n",
        "eval_classify_users = EvalTask(\n",
        "    dataset=eval_dataset,\n",
        "    metrics=[MetricPromptTemplateExamples.Pointwise.INSTRUCTION_FOLLOWING, #Check instruction following, required for instructions\n",
        "        MetricPromptTemplateExamples.Pointwise.TEXT_QUALITY, #Ensure text is high quality and not random\n",
        "        MetricPromptTemplateExamples.Pointwise.VERBOSITY,]\n",
        ")\n",
        "\n",
        "prompt_template = (\n",
        "    \"Instruction: {instruction}\\n\"\n",
        "    \"context: {context}\\n\"\n",
        "    \"response: {response}\"\n",
        ")\n",
        "result = eval_classify_users.evaluate(prompt_template=prompt_template)\n",
        "\n",
        "result.summary_metrics"
      ],
      "metadata": {
        "colab": {
          "base_uri": "https://localhost:8080/",
          "height": 300
        },
        "id": "BCm3Jty1wGOv",
        "outputId": "de76eee8-8881-4b9a-e191-73b4aaf76c90"
      },
      "id": "BCm3Jty1wGOv",
      "execution_count": null,
      "outputs": [
        {
          "output_type": "stream",
          "name": "stderr",
          "text": [
            "INFO:google.cloud.aiplatform.metadata.experiment_resources:Associating projects/654098195926/locations/us-central1/metadataStores/default/contexts/validate-classify-user-87094cc9-4d07-4607-87eb-7859a5dfb8d1 to Experiment: validate-classify-user\n"
          ]
        },
        {
          "output_type": "display_data",
          "data": {
            "text/plain": [
              "<IPython.core.display.HTML object>"
            ],
            "text/html": [
              "\n",
              "        \n",
              "    <link rel=\"stylesheet\" href=\"https://fonts.googleapis.com/icon?family=Material+Icons\">\n",
              "    <style>\n",
              "      .view-vertex-resource,\n",
              "      .view-vertex-resource:hover,\n",
              "      .view-vertex-resource:visited {\n",
              "        position: relative;\n",
              "        display: inline-flex;\n",
              "        flex-direction: row;\n",
              "        height: 32px;\n",
              "        padding: 0 12px;\n",
              "          margin: 4px 18px;\n",
              "        gap: 4px;\n",
              "        border-radius: 4px;\n",
              "\n",
              "        align-items: center;\n",
              "        justify-content: center;\n",
              "        background-color: rgb(255, 255, 255);\n",
              "        color: rgb(51, 103, 214);\n",
              "\n",
              "        font-family: Roboto,\"Helvetica Neue\",sans-serif;\n",
              "        font-size: 13px;\n",
              "        font-weight: 500;\n",
              "        text-transform: uppercase;\n",
              "        text-decoration: none !important;\n",
              "\n",
              "        transition: box-shadow 280ms cubic-bezier(0.4, 0, 0.2, 1) 0s;\n",
              "        box-shadow: 0px 3px 1px -2px rgba(0,0,0,0.2), 0px 2px 2px 0px rgba(0,0,0,0.14), 0px 1px 5px 0px rgba(0,0,0,0.12);\n",
              "      }\n",
              "      .view-vertex-resource:active {\n",
              "        box-shadow: 0px 5px 5px -3px rgba(0,0,0,0.2),0px 8px 10px 1px rgba(0,0,0,0.14),0px 3px 14px 2px rgba(0,0,0,0.12);\n",
              "      }\n",
              "      .view-vertex-resource:active .view-vertex-ripple::before {\n",
              "        position: absolute;\n",
              "        top: 0;\n",
              "        bottom: 0;\n",
              "        left: 0;\n",
              "        right: 0;\n",
              "        border-radius: 4px;\n",
              "        pointer-events: none;\n",
              "\n",
              "        content: '';\n",
              "        background-color: rgb(51, 103, 214);\n",
              "        opacity: 0.12;\n",
              "      }\n",
              "      .view-vertex-icon {\n",
              "        font-size: 18px;\n",
              "      }\n",
              "    </style>\n",
              "  \n",
              "        <a class=\"view-vertex-resource\" id=\"view-vertex-resource-75ae457b-6fca-45d1-9358-4374a2028be7\" href=\"#view-view-vertex-resource-75ae457b-6fca-45d1-9358-4374a2028be7\">\n",
              "          <span class=\"material-icons view-vertex-icon\">science</span>\n",
              "          <span>View Experiment Run</span>\n",
              "        </a>\n",
              "        \n",
              "        <script>\n",
              "          (function () {\n",
              "            const link = document.getElementById('view-vertex-resource-75ae457b-6fca-45d1-9358-4374a2028be7');\n",
              "            link.addEventListener('click', (e) => {\n",
              "              if (window.google?.colab?.openUrl) {\n",
              "                window.google.colab.openUrl('https://console.cloud.google.com/vertex-ai/experiments/locations/us-central1/experiments/validate-classify-user/runs/validate-classify-user-87094cc9-4d07-4607-87eb-7859a5dfb8d1?project=qwiklabs-gcp-02-cf6490c204fb');\n",
              "              } else {\n",
              "                window.open('https://console.cloud.google.com/vertex-ai/experiments/locations/us-central1/experiments/validate-classify-user/runs/validate-classify-user-87094cc9-4d07-4607-87eb-7859a5dfb8d1?project=qwiklabs-gcp-02-cf6490c204fb', '_blank');\n",
              "              }\n",
              "              e.stopPropagation();\n",
              "              e.preventDefault();\n",
              "            });\n",
              "          })();\n",
              "        </script>\n",
              "    "
            ]
          },
          "metadata": {}
        },
        {
          "output_type": "stream",
          "name": "stderr",
          "text": [
            "INFO:vertexai.evaluation.eval_task:Logging Eval Experiment metadata: {'prompt_template': 'Instruction: {instruction}\\ncontext: {context}\\nresponse: {response}'}\n",
            "INFO:vertexai.evaluation._evaluation:Assembling prompts from the `prompt_template`. The `prompt` column in the `EvalResult.metrics_table` has the assembled prompts used for model response generation.\n",
            "INFO:vertexai.evaluation._evaluation:Computing metrics with a total of 6 Vertex Gen AI Evaluation Service API requests.\n",
            "100%|██████████| 6/6 [00:05<00:00,  1.03it/s]\n",
            "INFO:vertexai.evaluation._evaluation:All 6 metric requests are successfully computed.\n",
            "INFO:vertexai.evaluation._evaluation:Evaluation Took:5.831025990002672 seconds\n"
          ]
        },
        {
          "output_type": "execute_result",
          "data": {
            "text/plain": [
              "{'row_count': 2,\n",
              " 'instruction_following/mean': 5.0,\n",
              " 'instruction_following/std': 0.0,\n",
              " 'text_quality/mean': 5.0,\n",
              " 'text_quality/std': 0.0,\n",
              " 'verbosity/mean': 0.0,\n",
              " 'verbosity/std': 0.0}"
            ]
          },
          "metadata": {},
          "execution_count": 92
        }
      ]
    },
    {
      "cell_type": "markdown",
      "source": [
        "We now move on to evaluating the social media posts"
      ],
      "metadata": {
        "id": "BwQKssQIJg1i"
      },
      "id": "BwQKssQIJg1i"
    },
    {
      "cell_type": "code",
      "source": [
        "import pandas as pd\n",
        "\n",
        "contexts = [\"christmas\",\"snow day\"]\n",
        "\n",
        "full_prompts = [base_prompt.format(i) for i in contexts]\n",
        "content = [generate_social_post(i) for i in contexts]\n",
        "\n",
        "eval_dataset = pd.DataFrame(\n",
        "{\n",
        "\"response\": content,\n",
        "\"context\": full_prompts,\n",
        "\"instruction\":full_prompts\n",
        "}\n",
        ")"
      ],
      "metadata": {
        "id": "z7bByJ2jH3Sq"
      },
      "id": "z7bByJ2jH3Sq",
      "execution_count": null,
      "outputs": []
    },
    {
      "cell_type": "code",
      "source": [
        "eval_dataset.head()"
      ],
      "metadata": {
        "colab": {
          "base_uri": "https://localhost:8080/",
          "height": 112
        },
        "id": "nyutEZeNJ9tc",
        "outputId": "1944f31e-0d9d-47b9-e57b-647449384821"
      },
      "id": "nyutEZeNJ9tc",
      "execution_count": null,
      "outputs": [
        {
          "output_type": "execute_result",
          "data": {
            "text/plain": [
              "                                            response  \\\n",
              "0  Merry Christmas! 🎄 Wishing you a season filled...   \n",
              "1  SNOW DAY! ❄️ No school/work. Cozy vibes or sno...   \n",
              "\n",
              "                                             context  \\\n",
              "0  \\n  Classify the following question into one o...   \n",
              "1  \\n  Classify the following question into one o...   \n",
              "\n",
              "                                         instruction  \n",
              "0  \\n  Classify the following question into one o...  \n",
              "1  \\n  Classify the following question into one o...  "
            ],
            "text/html": [
              "\n",
              "  <div id=\"df-b147b6e4-537c-4c67-b50c-7cd62e8149be\" class=\"colab-df-container\">\n",
              "    <div>\n",
              "<style scoped>\n",
              "    .dataframe tbody tr th:only-of-type {\n",
              "        vertical-align: middle;\n",
              "    }\n",
              "\n",
              "    .dataframe tbody tr th {\n",
              "        vertical-align: top;\n",
              "    }\n",
              "\n",
              "    .dataframe thead th {\n",
              "        text-align: right;\n",
              "    }\n",
              "</style>\n",
              "<table border=\"1\" class=\"dataframe\">\n",
              "  <thead>\n",
              "    <tr style=\"text-align: right;\">\n",
              "      <th></th>\n",
              "      <th>response</th>\n",
              "      <th>context</th>\n",
              "      <th>instruction</th>\n",
              "    </tr>\n",
              "  </thead>\n",
              "  <tbody>\n",
              "    <tr>\n",
              "      <th>0</th>\n",
              "      <td>Merry Christmas! 🎄 Wishing you a season filled...</td>\n",
              "      <td>\\n  Classify the following question into one o...</td>\n",
              "      <td>\\n  Classify the following question into one o...</td>\n",
              "    </tr>\n",
              "    <tr>\n",
              "      <th>1</th>\n",
              "      <td>SNOW DAY! ❄️ No school/work. Cozy vibes or sno...</td>\n",
              "      <td>\\n  Classify the following question into one o...</td>\n",
              "      <td>\\n  Classify the following question into one o...</td>\n",
              "    </tr>\n",
              "  </tbody>\n",
              "</table>\n",
              "</div>\n",
              "    <div class=\"colab-df-buttons\">\n",
              "\n",
              "  <div class=\"colab-df-container\">\n",
              "    <button class=\"colab-df-convert\" onclick=\"convertToInteractive('df-b147b6e4-537c-4c67-b50c-7cd62e8149be')\"\n",
              "            title=\"Convert this dataframe to an interactive table.\"\n",
              "            style=\"display:none;\">\n",
              "\n",
              "  <svg xmlns=\"http://www.w3.org/2000/svg\" height=\"24px\" viewBox=\"0 -960 960 960\">\n",
              "    <path d=\"M120-120v-720h720v720H120Zm60-500h600v-160H180v160Zm220 220h160v-160H400v160Zm0 220h160v-160H400v160ZM180-400h160v-160H180v160Zm440 0h160v-160H620v160ZM180-180h160v-160H180v160Zm440 0h160v-160H620v160Z\"/>\n",
              "  </svg>\n",
              "    </button>\n",
              "\n",
              "  <style>\n",
              "    .colab-df-container {\n",
              "      display:flex;\n",
              "      gap: 12px;\n",
              "    }\n",
              "\n",
              "    .colab-df-convert {\n",
              "      background-color: #E8F0FE;\n",
              "      border: none;\n",
              "      border-radius: 50%;\n",
              "      cursor: pointer;\n",
              "      display: none;\n",
              "      fill: #1967D2;\n",
              "      height: 32px;\n",
              "      padding: 0 0 0 0;\n",
              "      width: 32px;\n",
              "    }\n",
              "\n",
              "    .colab-df-convert:hover {\n",
              "      background-color: #E2EBFA;\n",
              "      box-shadow: 0px 1px 2px rgba(60, 64, 67, 0.3), 0px 1px 3px 1px rgba(60, 64, 67, 0.15);\n",
              "      fill: #174EA6;\n",
              "    }\n",
              "\n",
              "    .colab-df-buttons div {\n",
              "      margin-bottom: 4px;\n",
              "    }\n",
              "\n",
              "    [theme=dark] .colab-df-convert {\n",
              "      background-color: #3B4455;\n",
              "      fill: #D2E3FC;\n",
              "    }\n",
              "\n",
              "    [theme=dark] .colab-df-convert:hover {\n",
              "      background-color: #434B5C;\n",
              "      box-shadow: 0px 1px 3px 1px rgba(0, 0, 0, 0.15);\n",
              "      filter: drop-shadow(0px 1px 2px rgba(0, 0, 0, 0.3));\n",
              "      fill: #FFFFFF;\n",
              "    }\n",
              "  </style>\n",
              "\n",
              "    <script>\n",
              "      const buttonEl =\n",
              "        document.querySelector('#df-b147b6e4-537c-4c67-b50c-7cd62e8149be button.colab-df-convert');\n",
              "      buttonEl.style.display =\n",
              "        google.colab.kernel.accessAllowed ? 'block' : 'none';\n",
              "\n",
              "      async function convertToInteractive(key) {\n",
              "        const element = document.querySelector('#df-b147b6e4-537c-4c67-b50c-7cd62e8149be');\n",
              "        const dataTable =\n",
              "          await google.colab.kernel.invokeFunction('convertToInteractive',\n",
              "                                                    [key], {});\n",
              "        if (!dataTable) return;\n",
              "\n",
              "        const docLinkHtml = 'Like what you see? Visit the ' +\n",
              "          '<a target=\"_blank\" href=https://colab.research.google.com/notebooks/data_table.ipynb>data table notebook</a>'\n",
              "          + ' to learn more about interactive tables.';\n",
              "        element.innerHTML = '';\n",
              "        dataTable['output_type'] = 'display_data';\n",
              "        await google.colab.output.renderOutput(dataTable, element);\n",
              "        const docLink = document.createElement('div');\n",
              "        docLink.innerHTML = docLinkHtml;\n",
              "        element.appendChild(docLink);\n",
              "      }\n",
              "    </script>\n",
              "  </div>\n",
              "\n",
              "\n",
              "<div id=\"df-710d99b3-cea3-41b4-951c-b940f5304a2c\">\n",
              "  <button class=\"colab-df-quickchart\" onclick=\"quickchart('df-710d99b3-cea3-41b4-951c-b940f5304a2c')\"\n",
              "            title=\"Suggest charts\"\n",
              "            style=\"display:none;\">\n",
              "\n",
              "<svg xmlns=\"http://www.w3.org/2000/svg\" height=\"24px\"viewBox=\"0 0 24 24\"\n",
              "     width=\"24px\">\n",
              "    <g>\n",
              "        <path d=\"M19 3H5c-1.1 0-2 .9-2 2v14c0 1.1.9 2 2 2h14c1.1 0 2-.9 2-2V5c0-1.1-.9-2-2-2zM9 17H7v-7h2v7zm4 0h-2V7h2v10zm4 0h-2v-4h2v4z\"/>\n",
              "    </g>\n",
              "</svg>\n",
              "  </button>\n",
              "\n",
              "<style>\n",
              "  .colab-df-quickchart {\n",
              "      --bg-color: #E8F0FE;\n",
              "      --fill-color: #1967D2;\n",
              "      --hover-bg-color: #E2EBFA;\n",
              "      --hover-fill-color: #174EA6;\n",
              "      --disabled-fill-color: #AAA;\n",
              "      --disabled-bg-color: #DDD;\n",
              "  }\n",
              "\n",
              "  [theme=dark] .colab-df-quickchart {\n",
              "      --bg-color: #3B4455;\n",
              "      --fill-color: #D2E3FC;\n",
              "      --hover-bg-color: #434B5C;\n",
              "      --hover-fill-color: #FFFFFF;\n",
              "      --disabled-bg-color: #3B4455;\n",
              "      --disabled-fill-color: #666;\n",
              "  }\n",
              "\n",
              "  .colab-df-quickchart {\n",
              "    background-color: var(--bg-color);\n",
              "    border: none;\n",
              "    border-radius: 50%;\n",
              "    cursor: pointer;\n",
              "    display: none;\n",
              "    fill: var(--fill-color);\n",
              "    height: 32px;\n",
              "    padding: 0;\n",
              "    width: 32px;\n",
              "  }\n",
              "\n",
              "  .colab-df-quickchart:hover {\n",
              "    background-color: var(--hover-bg-color);\n",
              "    box-shadow: 0 1px 2px rgba(60, 64, 67, 0.3), 0 1px 3px 1px rgba(60, 64, 67, 0.15);\n",
              "    fill: var(--button-hover-fill-color);\n",
              "  }\n",
              "\n",
              "  .colab-df-quickchart-complete:disabled,\n",
              "  .colab-df-quickchart-complete:disabled:hover {\n",
              "    background-color: var(--disabled-bg-color);\n",
              "    fill: var(--disabled-fill-color);\n",
              "    box-shadow: none;\n",
              "  }\n",
              "\n",
              "  .colab-df-spinner {\n",
              "    border: 2px solid var(--fill-color);\n",
              "    border-color: transparent;\n",
              "    border-bottom-color: var(--fill-color);\n",
              "    animation:\n",
              "      spin 1s steps(1) infinite;\n",
              "  }\n",
              "\n",
              "  @keyframes spin {\n",
              "    0% {\n",
              "      border-color: transparent;\n",
              "      border-bottom-color: var(--fill-color);\n",
              "      border-left-color: var(--fill-color);\n",
              "    }\n",
              "    20% {\n",
              "      border-color: transparent;\n",
              "      border-left-color: var(--fill-color);\n",
              "      border-top-color: var(--fill-color);\n",
              "    }\n",
              "    30% {\n",
              "      border-color: transparent;\n",
              "      border-left-color: var(--fill-color);\n",
              "      border-top-color: var(--fill-color);\n",
              "      border-right-color: var(--fill-color);\n",
              "    }\n",
              "    40% {\n",
              "      border-color: transparent;\n",
              "      border-right-color: var(--fill-color);\n",
              "      border-top-color: var(--fill-color);\n",
              "    }\n",
              "    60% {\n",
              "      border-color: transparent;\n",
              "      border-right-color: var(--fill-color);\n",
              "    }\n",
              "    80% {\n",
              "      border-color: transparent;\n",
              "      border-right-color: var(--fill-color);\n",
              "      border-bottom-color: var(--fill-color);\n",
              "    }\n",
              "    90% {\n",
              "      border-color: transparent;\n",
              "      border-bottom-color: var(--fill-color);\n",
              "    }\n",
              "  }\n",
              "</style>\n",
              "\n",
              "  <script>\n",
              "    async function quickchart(key) {\n",
              "      const quickchartButtonEl =\n",
              "        document.querySelector('#' + key + ' button');\n",
              "      quickchartButtonEl.disabled = true;  // To prevent multiple clicks.\n",
              "      quickchartButtonEl.classList.add('colab-df-spinner');\n",
              "      try {\n",
              "        const charts = await google.colab.kernel.invokeFunction(\n",
              "            'suggestCharts', [key], {});\n",
              "      } catch (error) {\n",
              "        console.error('Error during call to suggestCharts:', error);\n",
              "      }\n",
              "      quickchartButtonEl.classList.remove('colab-df-spinner');\n",
              "      quickchartButtonEl.classList.add('colab-df-quickchart-complete');\n",
              "    }\n",
              "    (() => {\n",
              "      let quickchartButtonEl =\n",
              "        document.querySelector('#df-710d99b3-cea3-41b4-951c-b940f5304a2c button');\n",
              "      quickchartButtonEl.style.display =\n",
              "        google.colab.kernel.accessAllowed ? 'block' : 'none';\n",
              "    })();\n",
              "  </script>\n",
              "</div>\n",
              "\n",
              "    </div>\n",
              "  </div>\n"
            ],
            "application/vnd.google.colaboratory.intrinsic+json": {
              "type": "dataframe",
              "variable_name": "eval_dataset",
              "summary": "{\n  \"name\": \"eval_dataset\",\n  \"rows\": 2,\n  \"fields\": [\n    {\n      \"column\": \"response\",\n      \"properties\": {\n        \"dtype\": \"string\",\n        \"num_unique_values\": 2,\n        \"samples\": [\n          \"SNOW DAY! \\u2744\\ufe0f No school/work. Cozy vibes or snowy adventures await! Enjoy. #SnowDay\",\n          \"Merry Christmas! \\ud83c\\udf84 Wishing you a season filled with joy, love, and sparkling moments. \\u2728\"\n        ],\n        \"semantic_type\": \"\",\n        \"description\": \"\"\n      }\n    },\n    {\n      \"column\": \"context\",\n      \"properties\": {\n        \"dtype\": \"string\",\n        \"num_unique_values\": 2,\n        \"samples\": [\n          \"\\n  Classify the following question into one of the following categories: 'Employment','General Information','Emergency Services','Tax Related'\\n\\n  Question: snow day\\n\",\n          \"\\n  Classify the following question into one of the following categories: 'Employment','General Information','Emergency Services','Tax Related'\\n\\n  Question: christmas\\n\"\n        ],\n        \"semantic_type\": \"\",\n        \"description\": \"\"\n      }\n    },\n    {\n      \"column\": \"instruction\",\n      \"properties\": {\n        \"dtype\": \"string\",\n        \"num_unique_values\": 2,\n        \"samples\": [\n          \"\\n  Classify the following question into one of the following categories: 'Employment','General Information','Emergency Services','Tax Related'\\n\\n  Question: snow day\\n\",\n          \"\\n  Classify the following question into one of the following categories: 'Employment','General Information','Emergency Services','Tax Related'\\n\\n  Question: christmas\\n\"\n        ],\n        \"semantic_type\": \"\",\n        \"description\": \"\"\n      }\n    }\n  ]\n}"
            }
          },
          "metadata": {},
          "execution_count": 94
        }
      ]
    },
    {
      "cell_type": "code",
      "source": [
        "import datetime\n",
        "from vertexai.evaluation import (\n",
        "    MetricPromptTemplateExamples,\n",
        "    EvalTask,\n",
        "    PairwiseMetric,\n",
        "    PairwiseMetricPromptTemplate,\n",
        "    PointwiseMetric,\n",
        "    PointwiseMetricPromptTemplate\n",
        ")\n",
        "import vertexai\n",
        "\n",
        "eval_social_post = EvalTask(\n",
        "    dataset=eval_dataset,\n",
        "    metrics=[MetricPromptTemplateExamples.Pointwise.INSTRUCTION_FOLLOWING, #Check instruction following, required for instructions\n",
        "        MetricPromptTemplateExamples.Pointwise.TEXT_QUALITY, #Ensure text is high quality and not random\n",
        "        MetricPromptTemplateExamples.Pointwise.VERBOSITY,]\n",
        ")\n",
        "\n",
        "prompt_template = (\n",
        "    \"Instruction: {instruction}\\n\"\n",
        "    \"context: {context}\\n\"\n",
        "    \"response: {response}\"\n",
        ")\n",
        "result = eval_social_post.evaluate(prompt_template=prompt_template)\n",
        "\n",
        "result.summary_metrics"
      ],
      "metadata": {
        "id": "01oDTCsPwGXU",
        "colab": {
          "base_uri": "https://localhost:8080/",
          "height": 300
        },
        "outputId": "13a217b2-8deb-48b1-9fdf-84b3280a031f"
      },
      "id": "01oDTCsPwGXU",
      "execution_count": 96,
      "outputs": [
        {
          "output_type": "stream",
          "name": "stderr",
          "text": [
            "INFO:google.cloud.aiplatform.metadata.experiment_resources:Associating projects/654098195926/locations/us-central1/metadataStores/default/contexts/validate-classify-user-a57294f0-e57f-4de4-9d35-e03123d059a0 to Experiment: validate-classify-user\n"
          ]
        },
        {
          "output_type": "display_data",
          "data": {
            "text/plain": [
              "<IPython.core.display.HTML object>"
            ],
            "text/html": [
              "\n",
              "        \n",
              "    <link rel=\"stylesheet\" href=\"https://fonts.googleapis.com/icon?family=Material+Icons\">\n",
              "    <style>\n",
              "      .view-vertex-resource,\n",
              "      .view-vertex-resource:hover,\n",
              "      .view-vertex-resource:visited {\n",
              "        position: relative;\n",
              "        display: inline-flex;\n",
              "        flex-direction: row;\n",
              "        height: 32px;\n",
              "        padding: 0 12px;\n",
              "          margin: 4px 18px;\n",
              "        gap: 4px;\n",
              "        border-radius: 4px;\n",
              "\n",
              "        align-items: center;\n",
              "        justify-content: center;\n",
              "        background-color: rgb(255, 255, 255);\n",
              "        color: rgb(51, 103, 214);\n",
              "\n",
              "        font-family: Roboto,\"Helvetica Neue\",sans-serif;\n",
              "        font-size: 13px;\n",
              "        font-weight: 500;\n",
              "        text-transform: uppercase;\n",
              "        text-decoration: none !important;\n",
              "\n",
              "        transition: box-shadow 280ms cubic-bezier(0.4, 0, 0.2, 1) 0s;\n",
              "        box-shadow: 0px 3px 1px -2px rgba(0,0,0,0.2), 0px 2px 2px 0px rgba(0,0,0,0.14), 0px 1px 5px 0px rgba(0,0,0,0.12);\n",
              "      }\n",
              "      .view-vertex-resource:active {\n",
              "        box-shadow: 0px 5px 5px -3px rgba(0,0,0,0.2),0px 8px 10px 1px rgba(0,0,0,0.14),0px 3px 14px 2px rgba(0,0,0,0.12);\n",
              "      }\n",
              "      .view-vertex-resource:active .view-vertex-ripple::before {\n",
              "        position: absolute;\n",
              "        top: 0;\n",
              "        bottom: 0;\n",
              "        left: 0;\n",
              "        right: 0;\n",
              "        border-radius: 4px;\n",
              "        pointer-events: none;\n",
              "\n",
              "        content: '';\n",
              "        background-color: rgb(51, 103, 214);\n",
              "        opacity: 0.12;\n",
              "      }\n",
              "      .view-vertex-icon {\n",
              "        font-size: 18px;\n",
              "      }\n",
              "    </style>\n",
              "  \n",
              "        <a class=\"view-vertex-resource\" id=\"view-vertex-resource-072772cb-ed64-4dbc-b590-c3171590fe14\" href=\"#view-view-vertex-resource-072772cb-ed64-4dbc-b590-c3171590fe14\">\n",
              "          <span class=\"material-icons view-vertex-icon\">science</span>\n",
              "          <span>View Experiment Run</span>\n",
              "        </a>\n",
              "        \n",
              "        <script>\n",
              "          (function () {\n",
              "            const link = document.getElementById('view-vertex-resource-072772cb-ed64-4dbc-b590-c3171590fe14');\n",
              "            link.addEventListener('click', (e) => {\n",
              "              if (window.google?.colab?.openUrl) {\n",
              "                window.google.colab.openUrl('https://console.cloud.google.com/vertex-ai/experiments/locations/us-central1/experiments/validate-classify-user/runs/validate-classify-user-a57294f0-e57f-4de4-9d35-e03123d059a0?project=qwiklabs-gcp-02-cf6490c204fb');\n",
              "              } else {\n",
              "                window.open('https://console.cloud.google.com/vertex-ai/experiments/locations/us-central1/experiments/validate-classify-user/runs/validate-classify-user-a57294f0-e57f-4de4-9d35-e03123d059a0?project=qwiklabs-gcp-02-cf6490c204fb', '_blank');\n",
              "              }\n",
              "              e.stopPropagation();\n",
              "              e.preventDefault();\n",
              "            });\n",
              "          })();\n",
              "        </script>\n",
              "    "
            ]
          },
          "metadata": {}
        },
        {
          "output_type": "stream",
          "name": "stderr",
          "text": [
            "INFO:vertexai.evaluation.eval_task:Logging Eval Experiment metadata: {'prompt_template': 'Instruction: {instruction}\\ncontext: {context}\\nresponse: {response}'}\n",
            "INFO:vertexai.evaluation._evaluation:Assembling prompts from the `prompt_template`. The `prompt` column in the `EvalResult.metrics_table` has the assembled prompts used for model response generation.\n",
            "INFO:vertexai.evaluation._evaluation:Computing metrics with a total of 6 Vertex Gen AI Evaluation Service API requests.\n",
            "100%|██████████| 6/6 [00:05<00:00,  1.02it/s]\n",
            "INFO:vertexai.evaluation._evaluation:All 6 metric requests are successfully computed.\n",
            "INFO:vertexai.evaluation._evaluation:Evaluation Took:5.92135071300072 seconds\n"
          ]
        },
        {
          "output_type": "execute_result",
          "data": {
            "text/plain": [
              "{'row_count': 2,\n",
              " 'instruction_following/mean': 1.0,\n",
              " 'instruction_following/std': 0.0,\n",
              " 'text_quality/mean': 1.0,\n",
              " 'text_quality/std': 0.0,\n",
              " 'verbosity/mean': -2.0,\n",
              " 'verbosity/std': 0.0}"
            ]
          },
          "metadata": {},
          "execution_count": 96
        }
      ]
    },
    {
      "cell_type": "code",
      "source": [],
      "metadata": {
        "id": "hMznXWgwN99l"
      },
      "id": "hMznXWgwN99l",
      "execution_count": null,
      "outputs": []
    }
  ],
  "metadata": {
    "kernelspec": {
      "display_name": "Python 3",
      "language": "python",
      "name": "python3"
    },
    "language_info": {
      "codemirror_mode": {
        "name": "ipython",
        "version": 3
      },
      "file_extension": ".py",
      "mimetype": "text/x-python",
      "name": "python",
      "nbconvert_exporter": "python",
      "pygments_lexer": "ipython3",
      "version": "3.10.10"
    },
    "colab": {
      "provenance": [],
      "name": "student-02-76f58729f297 (May 12, 2025, 7:27:10 PM)"
    }
  },
  "nbformat": 4,
  "nbformat_minor": 5
}